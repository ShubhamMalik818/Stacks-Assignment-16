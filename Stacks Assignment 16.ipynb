{
 "cells": [
  {
   "cell_type": "code",
   "execution_count": null,
   "id": "640749d6-3f98-4c86-94ac-a0a0f21f776e",
   "metadata": {},
   "outputs": [],
   "source": [
    "Question 1\n",
    "\n",
    "Given an array, for each element find the value of the nearest element to the right which is having a frequency greater than \n",
    "that of the current element. If there does not exist an answer for a position, then make the value ‘-1’.\n",
    "\n",
    "Examples:\n",
    "\n",
    "Input: a[] = [1, 1, 2, 3, 4, 2, 1]\n",
    "Output : [-1, -1, 1, 2, 2, 1, -1]\n",
    "\n",
    "Explanation:\n",
    "Given array a[] = [1, 1, 2, 3, 4, 2, 1]\n",
    "Frequency of each element is: 3, 3, 2, 1, 1, 2, 3\n",
    "\n",
    "Lets calls Next Greater Frequency element as NGF\n",
    "1. For element a[0] = 1 which has a frequency = 3,\n",
    "   As it has frequency of 3 and no other next element\n",
    "   has frequency more than 3 so  '-1'\n",
    "2. For element a[1] = 1 it will be -1 same logic\n",
    "   like a[0]\n",
    "3. For element a[2] = 2 which has frequency = 2,\n",
    "   NGF element is 1 at position = 6  with frequency\n",
    "   of 3 > 2\n",
    "4. For element a[3] = 3 which has frequency = 1,\n",
    "   NGF element is 2 at position = 5 with frequency\n",
    "   of 2 > 1\n",
    "5. For element a[4] = 4 which has frequency = 1,\n",
    "   NGF element is 2 at position = 5 with frequency\n",
    "   of 2 > 1\n",
    "6. For element a[5] = 2 which has frequency = 2,\n",
    "   NGF element is 1 at position = 6 with frequency\n",
    "   of 3 > 2\n",
    "7. For element a[6] = 1 there is no element to its\n",
    "   right, hence -1"
   ]
  },
  {
   "cell_type": "code",
   "execution_count": 1,
   "id": "aff88210-9cff-4076-95bf-130d51179fc7",
   "metadata": {},
   "outputs": [],
   "source": [
    "def find_nearest_greater_frequency(arr):\n",
    "    frequency = {}\n",
    "    stack = []\n",
    "    result = [-1] * len(arr)\n",
    "\n",
    "    # Step 1: Calculate the frequency of each element\n",
    "    for num in arr:\n",
    "        frequency[num] = frequency.get(num, 0) + 1\n",
    "\n",
    "    # Step 4: Iterate through the array from right to left\n",
    "    for i in range(len(arr) - 1, -1, -1):\n",
    "        # Step 4a: Pop elements from the stack until a greater frequency is found\n",
    "        while stack and frequency[arr[i]] >= frequency[arr[stack[-1]]]:\n",
    "            stack.pop()\n",
    "\n",
    "        # Step 4b: Update the result with the nearest greater frequency element\n",
    "        if stack:\n",
    "            result[i] = arr[stack[-1]]\n",
    "\n",
    "        # Step 4c: Push the current index onto the stack\n",
    "        stack.append(i)\n",
    "\n",
    "    return result"
   ]
  },
  {
   "cell_type": "code",
   "execution_count": 2,
   "id": "ec9a318d-2666-48ce-89c6-1dc0dfc32f23",
   "metadata": {},
   "outputs": [
    {
     "name": "stdout",
     "output_type": "stream",
     "text": [
      "[-1, -1, 1, 2, 2, 1, -1]\n"
     ]
    }
   ],
   "source": [
    "arr = [1, 1, 2, 3, 4, 2, 1]\n",
    "result = find_nearest_greater_frequency(arr)\n",
    "print(result)"
   ]
  },
  {
   "cell_type": "code",
   "execution_count": null,
   "id": "f644dc15-af1f-484a-8a03-92621db171bb",
   "metadata": {},
   "outputs": [],
   "source": [
    "Question 2\n",
    "\n",
    "Given a stack of integers, sort it in ascending order using another temporary stack.\n",
    "\n",
    "Examples:\n",
    "\n",
    "Input : [34, 3, 31, 98, 92, 23]\n",
    "Output : [3, 23, 31, 34, 92, 98]\n",
    "\n",
    "Input : [3, 5, 1, 4, 2, 8]\n",
    "Output : [1, 2, 3, 4, 5, 8]"
   ]
  },
  {
   "cell_type": "code",
   "execution_count": 3,
   "id": "a2abb66d-f7be-4241-8c32-3bdc28c68afa",
   "metadata": {},
   "outputs": [],
   "source": [
    "def sort_stack(stack):\n",
    "    temp_stack = []\n",
    "\n",
    "    while stack:\n",
    "        temp = stack.pop()\n",
    "\n",
    "        while temp_stack and temp_stack[-1] > temp:\n",
    "            stack.append(temp_stack.pop())\n",
    "\n",
    "        temp_stack.append(temp)\n",
    "\n",
    "    while temp_stack:\n",
    "        stack.append(temp_stack.pop())\n",
    "\n",
    "    return stack"
   ]
  },
  {
   "cell_type": "code",
   "execution_count": 4,
   "id": "da3c9357-3033-4910-b374-d846630766f9",
   "metadata": {},
   "outputs": [
    {
     "name": "stdout",
     "output_type": "stream",
     "text": [
      "[98, 92, 34, 31, 23, 3]\n",
      "[8, 5, 4, 3, 2, 1]\n"
     ]
    }
   ],
   "source": [
    "stack1 = [34, 3, 31, 98, 92, 23]\n",
    "sorted_stack1 = sort_stack(stack1)\n",
    "print(sorted_stack1)\n",
    "\n",
    "stack2 = [3, 5, 1, 4, 2, 8]\n",
    "sorted_stack2 = sort_stack(stack2)\n",
    "print(sorted_stack2)"
   ]
  },
  {
   "cell_type": "code",
   "execution_count": null,
   "id": "2a7b4493-28e3-490f-ab36-13a9e8ece488",
   "metadata": {},
   "outputs": [],
   "source": [
    "Question 3\n",
    "\n",
    "Given a stack with push(), pop(), and empty() operations, The task is to delete the middle element of it without using any additional data structure.\n",
    "\n",
    "Input  : Stack[] = [1, 2, 3, 4, 5]\n",
    "\n",
    "Output : Stack[] = [1, 2, 4, 5]\n",
    "\n",
    "Input  : Stack[] = [1, 2, 3, 4, 5, 6]\n",
    "\n",
    "Output : Stack[] = [1, 2, 4, 5, 6]"
   ]
  },
  {
   "cell_type": "code",
   "execution_count": 5,
   "id": "bdbe8ac5-cae8-400d-8e9f-e6f5459e7a9e",
   "metadata": {},
   "outputs": [],
   "source": [
    "def delete_middle(stack):\n",
    "    size = len(stack)\n",
    "\n",
    "    def delete_middle_helper(stack, current_index):\n",
    "        if current_index == size // 2:\n",
    "            stack.pop()\n",
    "            return\n",
    "\n",
    "        temp = stack.pop()\n",
    "        delete_middle_helper(stack, current_index + 1)\n",
    "        stack.append(temp)\n",
    "\n",
    "    delete_middle_helper(stack, 0)\n",
    "    return stack"
   ]
  },
  {
   "cell_type": "code",
   "execution_count": 6,
   "id": "ccabda11-4de0-46e1-8c32-bd8190383fc6",
   "metadata": {},
   "outputs": [
    {
     "name": "stdout",
     "output_type": "stream",
     "text": [
      "[1, 2, 4, 5]\n",
      "[1, 2, 4, 5, 6]\n"
     ]
    }
   ],
   "source": [
    "stack1 = [1, 2, 3, 4, 5]\n",
    "result1 = delete_middle(stack1)\n",
    "print(result1)\n",
    "\n",
    "stack2 = [1, 2, 3, 4, 5, 6]\n",
    "result2 = delete_middle(stack2)\n",
    "print(result2)"
   ]
  },
  {
   "cell_type": "code",
   "execution_count": null,
   "id": "69554270-c798-4f8e-a569-22c66fd9ec48",
   "metadata": {},
   "outputs": [],
   "source": [
    "Question 4\n",
    "\n",
    "Given a Queue consisting of first n natural numbers (in random order). The task is to check whether the given Queue \n",
    "elements can be arranged in increasing order in another Queue using a stack. The operation allowed are:\n",
    "\n",
    "1. Push and pop elements from the stack\n",
    "2. Pop (Or Dequeue) from the given Queue.\n",
    "3. Push (Or Enqueue) in the another Queue.\n",
    "\n",
    "Examples :\n",
    "\n",
    "Input : Queue[] = { 5, 1, 2, 3, 4 } \n",
    "\n",
    "Output : Yes \n",
    "\n",
    "Pop the first element of the given Queue \n",
    "\n",
    "i.e 5. Push 5 into the stack. \n",
    "\n",
    "Now, pop all the elements of the given Queue and push them to second Queue. \n",
    "\n",
    "Now, pop element 5 in the stack and push it to the second Queue.   \n",
    "\n",
    "Input : Queue[] = { 5, 1, 2, 6, 3, 4 } \n",
    "\n",
    "Output : No \n",
    "\n",
    "Push 5 to stack. \n",
    "\n",
    "Pop 1, 2 from given Queue and push it to another Queue. \n",
    "\n",
    "Pop 6 from given Queue and push to stack. \n",
    "\n",
    "Pop 3, 4 from given Queue and push to second Queue. \n",
    "\n",
    "Now, from using any of above operation, we cannot push 5 into the second Queue because it is below the 6 in the stack."
   ]
  },
  {
   "cell_type": "code",
   "execution_count": 13,
   "id": "fc8a7ffc-56f8-4d87-8840-e9428d103e80",
   "metadata": {},
   "outputs": [],
   "source": [
    "def check_queue_sortability(queue):\n",
    "    stack = []\n",
    "    second_queue = []\n",
    "\n",
    "    while queue:\n",
    "        current = queue.pop(0)\n",
    "\n",
    "        while second_queue and current < second_queue[-1]:\n",
    "            stack.append(second_queue.pop())\n",
    "\n",
    "        second_queue.append(current)\n",
    "\n",
    "    while stack:\n",
    "        second_queue.append(stack.pop())\n",
    "\n",
    "    # Check if the second queue is sorted in increasing order\n",
    "    for i in range(1, len(second_queue)):\n",
    "        if second_queue[i] < second_queue[i - 1]:\n",
    "            return \"No\"\n",
    "\n",
    "    return \"Yes\""
   ]
  },
  {
   "cell_type": "code",
   "execution_count": 14,
   "id": "6c95d6e2-6805-487b-89e5-ab34d6eb0b38",
   "metadata": {},
   "outputs": [
    {
     "name": "stdout",
     "output_type": "stream",
     "text": [
      "Yes\n",
      "No\n"
     ]
    }
   ],
   "source": [
    "queue1 = [5, 1, 2, 3, 4]\n",
    "result1 = check_queue_sortability(queue1)\n",
    "print(result1)\n",
    "\n",
    "queue2 = [5, 1, 2, 6, 3, 4]\n",
    "result2 = check_queue_sortability(queue2)\n",
    "print(result2)"
   ]
  },
  {
   "cell_type": "code",
   "execution_count": null,
   "id": "7c62a284-2efd-4d2b-b7c7-c912ef986ec1",
   "metadata": {},
   "outputs": [],
   "source": [
    "Question 5\n",
    "\n",
    "Given a number , write a program to reverse this number using stack.\n",
    "\n",
    "Examples:\n",
    "\n",
    "Input : 365\n",
    "Output : 563\n",
    "\n",
    "Input : 6899\n",
    "Output : 9986"
   ]
  },
  {
   "cell_type": "code",
   "execution_count": 15,
   "id": "7cd4a1df-861d-43e4-a2eb-f448ab264f21",
   "metadata": {},
   "outputs": [],
   "source": [
    "def reverse_number(num):\n",
    "    num_str = str(num)\n",
    "    stack = []\n",
    "\n",
    "    for digit in num_str:\n",
    "        stack.append(digit)\n",
    "\n",
    "    reversed_num_str = \"\"\n",
    "    while stack:\n",
    "        reversed_num_str += stack.pop()\n",
    "\n",
    "    reversed_num = int(reversed_num_str)\n",
    "    return reversed_num"
   ]
  },
  {
   "cell_type": "code",
   "execution_count": 16,
   "id": "a7c3f45d-6931-433b-b395-a425eed22aac",
   "metadata": {},
   "outputs": [
    {
     "name": "stdout",
     "output_type": "stream",
     "text": [
      "563\n",
      "9986\n"
     ]
    }
   ],
   "source": [
    "num1 = 365\n",
    "reversed_num1 = reverse_number(num1)\n",
    "print(reversed_num1)\n",
    "\n",
    "num2 = 6899\n",
    "reversed_num2 = reverse_number(num2)\n",
    "print(reversed_num2)"
   ]
  },
  {
   "cell_type": "code",
   "execution_count": null,
   "id": "aca7ffd3-355a-4aef-af51-d4d1c5b01b75",
   "metadata": {},
   "outputs": [],
   "source": [
    "Question 6\n",
    "\n",
    "Given an integer k and a [queue] of integers, The task is to reverse the \n",
    "order of the first k elements of the queue, leaving the other elements in the same relative order.\n",
    "\n",
    "Only following standard operations are allowed on queue.\n",
    "\n",
    "- enqueue(x) : Add an item x to rear of queue\n",
    "- dequeue() : Remove an item from front of queue\n",
    "- size() : Returns number of elements in queue.\n",
    "- front() : Finds front item."
   ]
  },
  {
   "cell_type": "code",
   "execution_count": 17,
   "id": "08585b49-658e-4ab1-8caf-04120f4a6491",
   "metadata": {},
   "outputs": [],
   "source": [
    "from queue import Queue\n",
    "\n",
    "def reverse_k_elements(queue, k):\n",
    "    stack = []\n",
    "    temp_queue = Queue()\n",
    "\n",
    "    # Dequeue the first k elements and push them into the stack\n",
    "    for _ in range(k):\n",
    "        stack.append(queue.get())\n",
    "\n",
    "    # Enqueue the remaining elements into the temporary queue\n",
    "    while not queue.empty():\n",
    "        temp_queue.put(queue.get())\n",
    "\n",
    "    # Pop elements from the stack and enqueue them into the temporary queue\n",
    "    while stack:\n",
    "        temp_queue.put(stack.pop())\n",
    "\n",
    "    # Enqueue the elements from the temporary queue back into the given queue\n",
    "    while not temp_queue.empty():\n",
    "        queue.put(temp_queue.get())\n",
    "\n",
    "    return queue"
   ]
  },
  {
   "cell_type": "code",
   "execution_count": 18,
   "id": "8f84fe13-70ea-4023-a699-fd2e6944aa78",
   "metadata": {},
   "outputs": [
    {
     "name": "stdout",
     "output_type": "stream",
     "text": [
      "4\n",
      "5\n",
      "3\n",
      "2\n",
      "1\n"
     ]
    }
   ],
   "source": [
    "queue = Queue()\n",
    "queue.put(1)\n",
    "queue.put(2)\n",
    "queue.put(3)\n",
    "queue.put(4)\n",
    "queue.put(5)\n",
    "\n",
    "k = 3\n",
    "\n",
    "reversed_queue = reverse_k_elements(queue, k)\n",
    "while not reversed_queue.empty():\n",
    "    print(reversed_queue.get())"
   ]
  },
  {
   "cell_type": "code",
   "execution_count": null,
   "id": "0a6cf3ab-f414-4c22-a068-105292f53d77",
   "metadata": {},
   "outputs": [],
   "source": [
    "Question 7\n",
    "\n",
    "Given a sequence of n strings, the task is to check if any two similar words come together and then destroy each other then \n",
    "print the number of words left in the sequence after this pairwise destruction.\n",
    "\n",
    "Examples:\n",
    "\n",
    "Input : ab aa aa bcd ab\n",
    "\n",
    "Output : 3\n",
    "\n",
    "As aa, aa destroys each other so, ab bcd ab is the new sequence.\n",
    "\n",
    "Input :  tom jerry jerry tom\n",
    "\n",
    "Output : 0\n",
    "\n",
    "As first both jerry will destroy each other. Then sequence will be tom, tom they will also destroy each other. \n",
    "So, the final sequence doesn’t contain any word."
   ]
  },
  {
   "cell_type": "code",
   "execution_count": 19,
   "id": "aa0112d4-b917-462b-bd38-37fa8412d181",
   "metadata": {},
   "outputs": [],
   "source": [
    "def count_remaining_words(sequence):\n",
    "    words = sequence.split()\n",
    "    stack = []\n",
    "\n",
    "    for word in words:\n",
    "        if stack and word == stack[-1]:\n",
    "            stack.pop()\n",
    "        else:\n",
    "            stack.append(word)\n",
    "\n",
    "    return len(stack)"
   ]
  },
  {
   "cell_type": "code",
   "execution_count": 20,
   "id": "ed4e894c-e7d0-4820-8fa7-5a2792702d7c",
   "metadata": {},
   "outputs": [
    {
     "name": "stdout",
     "output_type": "stream",
     "text": [
      "3\n",
      "0\n"
     ]
    }
   ],
   "source": [
    "sequence1 = \"ab aa aa bcd ab\"\n",
    "result1 = count_remaining_words(sequence1)\n",
    "print(result1)\n",
    "\n",
    "sequence2 = \"tom jerry jerry tom\"\n",
    "result2 = count_remaining_words(sequence2)\n",
    "print(result2)"
   ]
  },
  {
   "cell_type": "code",
   "execution_count": null,
   "id": "7b45d66f-70dc-464c-9501-b5125ff8e303",
   "metadata": {},
   "outputs": [],
   "source": [
    "Question 8\n",
    "\n",
    "Given an array of integers, the task is to find the maximum absolute difference between the nearest left and the right smaller \n",
    "element of every element in the array.\n",
    "\n",
    "Note: If there is no smaller element on right side or left side of any element then we take zero as the smaller element. \n",
    "For example for the leftmost element, the nearest smaller element on the left side is considered as 0. Similarly, for rightmost elements, \n",
    "the smaller element on the right side is considered as 0.\n",
    "\n",
    "Examples:\n",
    "\n",
    "Input : arr[] = {2, 1, 8}\n",
    "Output : 1\n",
    "Left smaller  LS[] {0, 0, 1}\n",
    "Right smaller RS[] {1, 0, 0}\n",
    "Maximum Diff of abs(LS[i] - RS[i]) = 1\n",
    "\n",
    "Input  : arr[] = {2, 4, 8, 7, 7, 9, 3}\n",
    "Output : 4\n",
    "Left smaller   LS[] = {0, 2, 4, 4, 4, 7, 2}\n",
    "Right smaller  RS[] = {0, 3, 7, 3, 3, 3, 0}\n",
    "Maximum Diff of abs(LS[i] - RS[i]) = 7 - 3 = 4\n",
    "\n",
    "Input : arr[] = {5, 1, 9, 2, 5, 1, 7}\n",
    "Output : 1"
   ]
  },
  {
   "cell_type": "code",
   "execution_count": 21,
   "id": "38fe0b66-813d-41ea-9b9a-57c0edd8f79c",
   "metadata": {},
   "outputs": [],
   "source": [
    "def find_max_abs_diff(arr):\n",
    "    n = len(arr)\n",
    "    LS = [0] * n\n",
    "    RS = [0] * n\n",
    "    stack = []\n",
    "\n",
    "    # Find the nearest smaller element on the left side\n",
    "    for i in range(n):\n",
    "        while stack and stack[-1] >= arr[i]:\n",
    "            stack.pop()\n",
    "\n",
    "        if stack:\n",
    "            LS[i] = stack[-1]\n",
    "\n",
    "        stack.append(arr[i])\n",
    "\n",
    "    stack.clear()\n",
    "\n",
    "    # Find the nearest smaller element on the right side\n",
    "    for i in range(n - 1, -1, -1):\n",
    "        while stack and stack[-1] >= arr[i]:\n",
    "            stack.pop()\n",
    "\n",
    "        if stack:\n",
    "            RS[i] = stack[-1]\n",
    "\n",
    "        stack.append(arr[i])\n",
    "\n",
    "    max_diff = 0\n",
    "\n",
    "    # Find the maximum absolute difference\n",
    "    for i in range(n):\n",
    "        max_diff = max(max_diff, abs(LS[i] - RS[i]))\n",
    "\n",
    "    return max_diff"
   ]
  },
  {
   "cell_type": "code",
   "execution_count": 22,
   "id": "2450bff8-b3f5-4729-8ef8-07d02cc541ac",
   "metadata": {},
   "outputs": [
    {
     "name": "stdout",
     "output_type": "stream",
     "text": [
      "1\n",
      "4\n",
      "1\n"
     ]
    }
   ],
   "source": [
    "arr1 = [2, 1, 8]\n",
    "result1 = find_max_abs_diff(arr1)\n",
    "print(result1)\n",
    "\n",
    "arr2 = [2, 4, 8, 7, 7, 9, 3]\n",
    "result2 = find_max_abs_diff(arr2)\n",
    "print(result2)\n",
    "\n",
    "arr3 = [5, 1, 9, 2, 5, 1, 7]\n",
    "result3 = find_max_abs_diff(arr3)\n",
    "print(result3)"
   ]
  }
 ],
 "metadata": {
  "kernelspec": {
   "display_name": "Python 3 (ipykernel)",
   "language": "python",
   "name": "python3"
  },
  "language_info": {
   "codemirror_mode": {
    "name": "ipython",
    "version": 3
   },
   "file_extension": ".py",
   "mimetype": "text/x-python",
   "name": "python",
   "nbconvert_exporter": "python",
   "pygments_lexer": "ipython3",
   "version": "3.10.8"
  }
 },
 "nbformat": 4,
 "nbformat_minor": 5
}
